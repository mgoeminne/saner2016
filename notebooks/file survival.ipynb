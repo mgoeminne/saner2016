{
 "cells": [
  {
   "cell_type": "markdown",
   "metadata": {},
   "source": [
    "The aim of this notebook is to determine the survival rate of technologies in files after an other technology has been introduced"
   ]
  },
  {
   "cell_type": "code",
   "execution_count": 1,
   "metadata": {
    "collapsed": false
   },
   "outputs": [
    {
     "name": "stdout",
     "output_type": "stream",
     "text": [
      ":: problems summary ::\n",
      ":::: WARNINGS\n",
      "\tUnable to reparse com.github.alexarchambault.jupyter#jupyter-scala-api_2.11.6;0.2.0-SNAPSHOT from sonatype-snapshots, using Fri Jun 05 10:12:58 CEST 2015\n",
      "\n",
      "\tChoosing sonatype-snapshots for com.github.alexarchambault.jupyter#jupyter-scala-api_2.11.6;0.2.0-SNAPSHOT\n",
      "\n",
      "\tUnable to reparse com.github.alexarchambault#ammonite-api_2.11.6;0.3.1-SNAPSHOT from sonatype-snapshots, using Thu Sep 10 11:11:45 CEST 2015\n",
      "\n",
      "\tChoosing sonatype-snapshots for com.github.alexarchambault#ammonite-api_2.11.6;0.3.1-SNAPSHOT\n",
      "\n",
      "\tUnable to reparse com.github.alexarchambault.jupyter#jupyter-api_2.11;0.2.0-SNAPSHOT from sonatype-snapshots, using Mon Jun 01 02:54:01 CEST 2015\n",
      "\n",
      "\tChoosing sonatype-snapshots for com.github.alexarchambault.jupyter#jupyter-api_2.11;0.2.0-SNAPSHOT\n",
      "\n"
     ]
    },
    {
     "data": {
      "text/plain": []
     },
     "metadata": {},
     "output_type": "display_data"
    }
   ],
   "source": [
    "load.ivy(\"joda-time\" % \"joda-time\" % \"2.8\")"
   ]
  },
  {
   "cell_type": "code",
   "execution_count": 68,
   "metadata": {
    "collapsed": false
   },
   "outputs": [
    {
     "data": {
      "text/plain": [
       "\u001b[32mimport \u001b[36mjava.io.File\u001b[0m\n",
       "\u001b[32mimport \u001b[36morg.joda.time.{DateTime, DateTimeZone, Duration, Interval, Days}\u001b[0m\n",
       "\u001b[32mimport \u001b[36morg.joda.time.format.DateTimeFormat\u001b[0m\n",
       "\u001b[32mimport \u001b[36mscala.io.Source\u001b[0m\n",
       "\u001b[32mimport \u001b[36mjava.io.PrintWriter\u001b[0m"
      ]
     },
     "metadata": {},
     "output_type": "display_data"
    }
   ],
   "source": [
    "import java.io.File\n",
    "import org.joda.time.{DateTime, DateTimeZone, Duration, Interval, Days}\n",
    "import org.joda.time.format.DateTimeFormat\n",
    "import scala.io.Source\n",
    "import java.io.PrintWriter"
   ]
  },
  {
   "cell_type": "code",
   "execution_count": 17,
   "metadata": {
    "collapsed": false
   },
   "outputs": [
    {
     "data": {
      "text/plain": [
       "\u001b[36mdirectory\u001b[0m: \u001b[32mFile\u001b[0m = /Users/mg/CloudStation/publications/2016/saner2016\n",
       "\u001b[36mfirst_last_file\u001b[0m: \u001b[32mFile\u001b[0m = /Users/mg/CloudStation/publications/2016/saner2016/data/first-last.summary.csv\n",
       "\u001b[36mproject_summary_file\u001b[0m: \u001b[32mFile\u001b[0m = /Users/mg/CloudStation/publications/2016/saner2016/data/projects.summary.csv\n",
       "\u001b[36mdtf\u001b[0m: \u001b[32morg\u001b[0m.\u001b[32mjoda\u001b[0m.\u001b[32mtime\u001b[0m.\u001b[32mformat\u001b[0m.\u001b[32mDateTimeFormatter\u001b[0m = org.joda.time.format.DateTimeFormatter@62fac41b"
      ]
     },
     "metadata": {},
     "output_type": "display_data"
    }
   ],
   "source": [
    "val directory = new File(\"/Users/mg/CloudStation/publications/2016/saner2016\")\n",
    "val first_last_file = new File(directory, \"data/first-last.summary.csv\")\n",
    "val project_summary_file = new File(directory, \"data/projects.summary.csv\")\n",
    "val dtf = DateTimeFormat.forPattern(\"yyyy-MM-dd HH:mm:ss\").withZoneUTC"
   ]
  },
  {
   "cell_type": "code",
   "execution_count": 93,
   "metadata": {
    "collapsed": false
   },
   "outputs": [
    {
     "data": {
      "text/plain": [
       "defined \u001b[32mfunction \u001b[36morderingByDateTime\u001b[0m\n",
       "defined \u001b[32mclass \u001b[36mRow\u001b[0m\n",
       "defined \u001b[32mobject \u001b[36mRow\u001b[0m"
      ]
     },
     "metadata": {},
     "output_type": "display_data"
    }
   ],
   "source": [
    "implicit def orderingByDateTime[A <: DateTime]: Ordering[A] = Ordering.by(d => d.getMillis)\n",
    "\n",
    "case class Row(project: String, \n",
    "               file: String,\n",
    "               technologies: Map[String, Interval])\n",
    "{\n",
    "    def is_entity_related(): Boolean = !technologies.isEmpty\n",
    "    \n",
    "   \n",
    "    \n",
    "    def is_jpa(t: DateTime): Boolean = technologies.keySet contains \"JPA\"\n",
    "    \n",
    "    def is_jdbc(t: DateTime): Boolean = technologies.keySet contains \"JDBC\"\n",
    "    \n",
    "    def is_hbm(t: DateTime): Boolean = technologies.keySet contains \"Hibernate\"\n",
    "}\n",
    "\n",
    "object Row\n",
    "{\n",
    "    def apply(line: String) = {\n",
    "        val elements = line.split(\",\", -1)\n",
    "        val project = elements(0)\n",
    "        val file = elements(1)\n",
    "        val jpa = elements(2) match {\n",
    "            case \"NA\" => None\n",
    "            case \"\"   => None\n",
    "            case _: String => Some(new Interval( dtf.parseDateTime(elements(2)) , dtf.parseDateTime(elements(3))))  \n",
    "        }\n",
    "        \n",
    "        val jdbc = elements(4) match {\n",
    "            case \"NA\" => None\n",
    "            case \"\"   => None\n",
    "            case _: String => Some(new Interval(dtf.parseDateTime(elements(4)) , dtf.parseDateTime(elements(5))))  \n",
    "        }\n",
    "        \n",
    "        val hbm = elements(6) match {\n",
    "            case \"NA\" => None\n",
    "            case \"\"   => None\n",
    "            case _: String => Some(new Interval(dtf.parseDateTime(elements(6)) , dtf.parseDateTime(elements(7))))  \n",
    "        }\n",
    "        \n",
    "        val technologies = scala.collection.mutable.Map[String, Interval]()\n",
    "        if(jpa.isDefined) technologies.put(\"JPA\", jpa.get)\n",
    "        if(jdbc.isDefined) technologies.put(\"JDBC\", jdbc.get)\n",
    "        if(hbm.isDefined) technologies.put(\"Hibernate\",hbm.get)\n",
    "        \n",
    "        new Row(project,file,technologies.toMap)\n",
    "    }\n",
    "}"
   ]
  },
  {
   "cell_type": "code",
   "execution_count": 94,
   "metadata": {
    "collapsed": false
   },
   "outputs": [
    {
     "data": {
      "text/plain": [
       "\u001b[36mentries\u001b[0m: \u001b[32mList\u001b[0m[\u001b[32mRow\u001b[0m] = \u001b[33mList\u001b[0m(\n",
       "  \u001b[33mRow\u001b[0m(\n",
       "    \u001b[32m\"codjo_codjo-sample\"\u001b[0m,\n",
       "    \u001b[32m\"sample-server/src/main/java/net/codjo/sample/server/broadcast/ComputedPublicationDate.java\"\u001b[0m,\n",
       "    \u001b[33mMap\u001b[0m(\u001b[32m\"JDBC\"\u001b[0m -> 2012-07-09T14:35:56.000Z/2014-09-17T11:43:58.000Z)\n",
       "  ),\n",
       "  \u001b[33mRow\u001b[0m(\n",
       "    \u001b[32m\"codjo_codjo-sample\"\u001b[0m,\n",
       "    \u001b[32m\"sample-server/src/main/java/net/codjo/sample/server/broadcast/BookSelector.java\"\u001b[0m,\n",
       "    \u001b[33mMap\u001b[0m(\u001b[32m\"JDBC\"\u001b[0m -> 2012-12-18T18:18:47.000Z/2014-09-17T11:43:58.000Z)\n",
       "  ),\n",
       "  \u001b[33mRow\u001b[0m(\n",
       "    \u001b[32m\"codjo_codjo-sample\"\u001b[0m,\n",
       "    \u001b[32m\"sample-server/src/test/java/net/codjo/sample/server/broadcast/TransactionManager.java\"\u001b[0m\u001b[33m...\u001b[0m"
      ]
     },
     "metadata": {},
     "output_type": "display_data"
    }
   ],
   "source": [
    "val entries = Source.fromFile(first_last_file)\n",
    "                    .getLines.drop(1)\n",
    "                    .filterNot(_.trim.isEmpty)\n",
    "                    .map(Row.apply)\n",
    "                    .toList"
   ]
  },
  {
   "cell_type": "code",
   "execution_count": 95,
   "metadata": {
    "collapsed": false
   },
   "outputs": [
    {
     "data": {
      "text/plain": [
       "\u001b[36mproject_end\u001b[0m: \u001b[32mMap\u001b[0m[\u001b[32mString\u001b[0m, \u001b[32mDateTime\u001b[0m] = \u001b[33mMap\u001b[0m(\n",
       "  \u001b[32m\"Netflix_astyanax\"\u001b[0m -> 2015-01-26T12:52:19.000Z,\n",
       "  \u001b[32m\"stewartsims_KMS-dev\"\u001b[0m -> 2011-08-12T15:22:33.000Z,\n",
       "  \u001b[32m\"limcheekin_vaadin-addressbook-sample\"\u001b[0m -> 2012-06-18T10:49:00.000Z,\n",
       "  \u001b[32m\"apache_maven-plugins\"\u001b[0m -> 2015-03-18T22:11:07.000Z,\n",
       "  \u001b[32m\"gphat_bullfinch\"\u001b[0m -> 2012-06-26T11:15:32.000Z,\n",
       "  \u001b[32m\"sagioto_forum\"\u001b[0m -> 2012-07-30T18:12:20.000Z,\n",
       "  \u001b[32m\"jpaoletti_java-presentation-manager\"\u001b[0m -> 2013-06-25T19:57:22.000Z,\n",
       "  \u001b[32m\"qyb_sohu\"\u001b[0m -> 2012-03-30T16:17:54.000Z,\n",
       "  \u001b[32m\"ebayopensource_turmeric-releng\"\u001b[0m -> 2012-01-12T09:44:28.000Z,\n",
       "  \u001b[32m\"restsql_restsql\"\u001b[0m -> 2015-02-16T14:46:20.000Z,\n",
       "  \u001b[32m\"openshift_kitchensink-example\"\u001b[0m -> 2014-03-31T10:02:07.000Z,\n",
       "  \u001b[32m\"hamnis_httpcache4j\"\u001b[0m -> 2015-02-25T23:01:51.000Z,\n",
       "  \u001b[32m\"Tagette_BossStory\"\u001b[0m -> 2014-12-22T16:07:46.000Z,\n",
       "  \u001b[32m\"eclipse_cdo\"\u001b[0m -> 2015-03-18T08:05:25.000Z,\n",
       "\u001b[33m...\u001b[0m"
      ]
     },
     "metadata": {},
     "output_type": "display_data"
    }
   ],
   "source": [
    "val project_end = Source.fromFile(project_summary_file)\n",
    "                        .getLines.drop(1)\n",
    "                        .map(l => l.split(\",\"))\n",
    "                        .map(l => l(0) -> dtf.withZoneUTC.parseDateTime(l.last.substring(0,19)))\n",
    "                        .toMap"
   ]
  },
  {
   "cell_type": "markdown",
   "metadata": {},
   "source": [
    "Release the survival data of a sequence of values.\n",
    "Each value is a duration, plus a boolean expressing if the event actually occured"
   ]
  },
  {
   "cell_type": "code",
   "execution_count": 115,
   "metadata": {
    "collapsed": false
   },
   "outputs": [
    {
     "data": {
      "text/plain": [
       "defined \u001b[32mfunction \u001b[36mrelease_survival\u001b[0m"
      ]
     },
     "metadata": {},
     "output_type": "display_data"
    }
   ],
   "source": [
    "def release_survival(values: Seq[(Int, Boolean)], file: File) =\n",
    "{\n",
    "    val out = new PrintWriter(file)\n",
    "    out.println(\"duration,event\")\n",
    "    values.foreach(value => {\n",
    "        out.println(value._1 + \",\" + (if(value._2) 1 else 0))\n",
    "    })\n",
    "    \n",
    "    out.flush()\n",
    "    out.close()\n",
    "}"
   ]
  },
  {
   "cell_type": "code",
   "execution_count": 128,
   "metadata": {
    "collapsed": false
   },
   "outputs": [
    {
     "name": "stdout",
     "output_type": "stream",
     "text": [
      "JPA -> JDBC : 664 files\n",
      "JPA -> Hibernate : 185 files\n",
      "JDBC -> JPA : 637 files\n",
      "JDBC -> Hibernate : 155 files\n",
      "Hibernate -> JPA : 112 files\n",
      "Hibernate -> JDBC : 170 files\n"
     ]
    },
    {
     "data": {
      "text/plain": [
       "\u001b[36mtechnologies\u001b[0m: \u001b[32mSeq\u001b[0m[\u001b[32mString\u001b[0m] = \u001b[33mList\u001b[0m(\u001b[32m\"JPA\"\u001b[0m, \u001b[32m\"JDBC\"\u001b[0m, \u001b[32m\"Hibernate\"\u001b[0m)"
      ]
     },
     "metadata": {},
     "output_type": "display_data"
    }
   ],
   "source": [
    "val technologies = Seq(\"JPA\", \"JDBC\", \"Hibernate\")\n",
    "\n",
    "technologies.foreach(t1 => {\n",
    "    technologies.foreach(t2 => {\n",
    "        if(t1 != t2)\n",
    "        {\n",
    "            val candidates = entries.filter(p => (p.technologies.keySet contains t1) && \n",
    "                                                 (p.technologies.keySet contains t2) && \n",
    "                                                !(p.technologies(t1).getStart isAfter p.technologies(t2).getStart) &&\n",
    "                                                 \n",
    "                                                 (p.technologies(t1).getEnd isAfter p.technologies(t2).getStart)\n",
    "                                           )\n",
    "            \n",
    "            val values = candidates.map(candidate => {\n",
    "                val duration = Days.daysBetween(candidate.technologies(t2).getStart,\n",
    "                                                candidate.technologies(t1).getEnd)\n",
    "                                   .getDays\n",
    "                assert(duration >= 0)\n",
    "                val event = candidate.technologies(t1).getEnd isBefore project_end(candidate.project)\n",
    "                \n",
    "                (duration, event)\n",
    "            })\n",
    "            \n",
    "            println(t1 + \" -> \" + t2 + \" : \" + candidates.size + \" files\" )\n",
    "            release_survival(values, new File(directory, \"data/survival-\" + \n",
    "                                              t1.toLowerCase + \"-\" + t2.toLowerCase + \".csv\"))\n",
    "        }\n",
    "    })\n",
    "})"
   ]
  },
  {
   "cell_type": "code",
   "execution_count": 113,
   "metadata": {
    "collapsed": false
   },
   "outputs": [
    {
     "data": {
      "text/plain": [
       "\u001b[36mres77\u001b[0m: \u001b[32mInt\u001b[0m = \u001b[32m93842\u001b[0m"
      ]
     },
     "metadata": {},
     "output_type": "display_data"
    }
   ],
   "source": [
    "entries.size"
   ]
  },
  {
   "cell_type": "code",
   "execution_count": null,
   "metadata": {
    "collapsed": true
   },
   "outputs": [],
   "source": []
  }
 ],
 "metadata": {
  "kernelspec": {
   "display_name": "Scala 2.11",
   "language": "scala211",
   "name": "scala211"
  },
  "language_info": {
   "codemirror_mode": "text/x-scala",
   "file_extension": "scala",
   "mimetype": "text/x-scala",
   "name": "scala211",
   "pygments_lexer": "scala",
   "version": "2.11.6"
  }
 },
 "nbformat": 4,
 "nbformat_minor": 0
}
